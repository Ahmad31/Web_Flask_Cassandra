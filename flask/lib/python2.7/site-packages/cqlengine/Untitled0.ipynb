{
 "metadata": {
  "name": "",
  "signature": "sha256:5965a585f40eeb73a2a126e3bef33d0c961149a9427515de838352b9b79dc65e"
 },
 "nbformat": 3,
 "nbformat_minor": 0,
 "worksheets": []
}